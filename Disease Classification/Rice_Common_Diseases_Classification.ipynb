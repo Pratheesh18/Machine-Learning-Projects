{
 "cells": [
  {
   "cell_type": "code",
   "execution_count": null,
   "id": "0d83011e",
   "metadata": {},
   "outputs": [],
   "source": []
  },
  {
   "cell_type": "code",
   "execution_count": 1,
   "id": "0d441733",
   "metadata": {},
   "outputs": [],
   "source": [
    "import tensorflow as tf  # importing the libraries\n",
    "from tensorflow.keras.preprocessing.image import ImageDataGenerator\n",
    "from tensorflow.keras.models import Sequential\n",
    "from tensorflow.keras.layers import Conv2D, MaxPooling2D, Flatten, Dense, Dropout\n",
    "import os\n",
    "import random\n",
    "import shutil\n",
    "from sklearn.model_selection import train_test_split"
   ]
  },
  {
   "cell_type": "code",
   "execution_count": 2,
   "id": "d146c9af",
   "metadata": {},
   "outputs": [],
   "source": [
    "data_dir = 'F:/4th year/Research Project/Data-image'\n",
    "img_width, img_height = 150, 150\n",
    "num_classes = 5\n",
    "validation_ratio = 0.2"
   ]
  },
  {
   "cell_type": "code",
   "execution_count": 3,
   "id": "ee9faa03",
   "metadata": {},
   "outputs": [],
   "source": [
    "train_dir = 'train'\n",
    "validation_dir = 'validation'\n",
    "os.makedirs(train_dir, exist_ok=True)\n",
    "os.makedirs(validation_dir, exist_ok=True)"
   ]
  },
  {
   "cell_type": "code",
   "execution_count": 4,
   "id": "2951cb84",
   "metadata": {},
   "outputs": [],
   "source": [
    "for class_name in os.listdir(data_dir):\n",
    "    class_dir = os.path.join(data_dir, class_name)\n",
    "    if os.path.isdir(class_dir):\n",
    "        images = os.listdir(class_dir)\n",
    "        random.shuffle(images)\n",
    "        train_images, validation_images = train_test_split(images, test_size=validation_ratio)\n",
    "\n",
    "        for image_name in train_images:\n",
    "            src = os.path.join(class_dir, image_name)\n",
    "            dst = os.path.join(train_dir, class_name, image_name)\n",
    "            os.makedirs(os.path.dirname(dst), exist_ok=True)\n",
    "            shutil.copyfile(src, dst)\n",
    "\n",
    "        for image_name in validation_images:\n",
    "            src = os.path.join(class_dir, image_name)\n",
    "            dst = os.path.join(validation_dir, class_name, image_name)\n",
    "            os.makedirs(os.path.dirname(dst), exist_ok=True)\n",
    "            shutil.copyfile(src, dst)"
   ]
  },
  {
   "cell_type": "code",
   "execution_count": 5,
   "id": "ee4b78ba",
   "metadata": {},
   "outputs": [],
   "source": [
    "train_datagen = ImageDataGenerator(\n",
    "    rescale=1.0 / 255,\n",
    "    rotation_range=20,\n",
    "    width_shift_range=0.2,\n",
    "    height_shift_range=0.2,\n",
    "    shear_range=0.2,\n",
    "    zoom_range=0.2,\n",
    "    horizontal_flip=True\n",
    ")"
   ]
  },
  {
   "cell_type": "code",
   "execution_count": 6,
   "id": "337fcd20",
   "metadata": {},
   "outputs": [],
   "source": [
    "validation_datagen = ImageDataGenerator(rescale=1.0 / 255)"
   ]
  },
  {
   "cell_type": "code",
   "execution_count": 7,
   "id": "16c7bb1b",
   "metadata": {},
   "outputs": [
    {
     "name": "stdout",
     "output_type": "stream",
     "text": [
      "Found 2000 images belonging to 5 classes.\n"
     ]
    }
   ],
   "source": [
    "train_generator = train_datagen.flow_from_directory(\n",
    "    train_dir,\n",
    "    target_size=(img_width, img_height),\n",
    "    batch_size=32,\n",
    "    class_mode='categorical'\n",
    ")"
   ]
  },
  {
   "cell_type": "code",
   "execution_count": 8,
   "id": "665295eb",
   "metadata": {},
   "outputs": [
    {
     "name": "stdout",
     "output_type": "stream",
     "text": [
      "Found 500 images belonging to 5 classes.\n"
     ]
    }
   ],
   "source": [
    "validation_generator = validation_datagen.flow_from_directory(\n",
    "    validation_dir,\n",
    "    target_size=(img_width, img_height),\n",
    "    batch_size=32,\n",
    "    class_mode='categorical'\n",
    ")"
   ]
  },
  {
   "cell_type": "code",
   "execution_count": 9,
   "id": "104a6288",
   "metadata": {},
   "outputs": [],
   "source": [
    "model = Sequential()\n",
    "model.add(Conv2D(32, (3, 3), activation='relu', input_shape=(img_width, img_height, 3)))\n",
    "model.add(MaxPooling2D((2, 2)))\n",
    "model.add(Conv2D(64, (3, 3), activation='relu'))\n",
    "model.add(MaxPooling2D((2, 2)))\n",
    "model.add(Conv2D(128, (3, 3), activation='relu'))\n",
    "model.add(MaxPooling2D((2, 2)))\n",
    "model.add(Flatten())\n",
    "model.add(Dense(128, activation='relu'))\n",
    "model.add(Dropout(0.5))\n",
    "model.add(Dense(num_classes, activation='softmax'))"
   ]
  },
  {
   "cell_type": "code",
   "execution_count": 10,
   "id": "e807fa19",
   "metadata": {},
   "outputs": [],
   "source": [
    "model.compile(optimizer='adam', loss='categorical_crossentropy', metrics=['accuracy'])"
   ]
  },
  {
   "cell_type": "code",
   "execution_count": 12,
   "id": "e5bf71b2",
   "metadata": {},
   "outputs": [
    {
     "name": "stdout",
     "output_type": "stream",
     "text": [
      "Epoch 1/10\n",
      "62/62 [==============================] - 337s 5s/step - loss: 0.7640 - accuracy: 0.6972 - val_loss: 0.5793 - val_accuracy: 0.7937\n",
      "Epoch 2/10\n",
      "62/62 [==============================] - 448s 7s/step - loss: 0.5219 - accuracy: 0.8069 - val_loss: 0.4120 - val_accuracy: 0.8500\n",
      "Epoch 3/10\n",
      "62/62 [==============================] - 309s 5s/step - loss: 0.3854 - accuracy: 0.8542 - val_loss: 0.4997 - val_accuracy: 0.7771\n",
      "Epoch 4/10\n",
      "62/62 [==============================] - 356s 6s/step - loss: 0.3558 - accuracy: 0.8770 - val_loss: 0.3438 - val_accuracy: 0.8833\n",
      "Epoch 5/10\n",
      "62/62 [==============================] - 396s 6s/step - loss: 0.3196 - accuracy: 0.8831 - val_loss: 0.2122 - val_accuracy: 0.9125\n",
      "Epoch 6/10\n",
      "62/62 [==============================] - 307s 5s/step - loss: 0.2615 - accuracy: 0.9035 - val_loss: 0.2915 - val_accuracy: 0.9021\n",
      "Epoch 7/10\n",
      "62/62 [==============================] - 329s 5s/step - loss: 0.2660 - accuracy: 0.9075 - val_loss: 0.1388 - val_accuracy: 0.9521\n",
      "Epoch 8/10\n",
      "62/62 [==============================] - 317s 5s/step - loss: 0.3302 - accuracy: 0.8821 - val_loss: 0.1394 - val_accuracy: 0.9500\n",
      "Epoch 9/10\n",
      "62/62 [==============================] - 463s 8s/step - loss: 0.2270 - accuracy: 0.9258 - val_loss: 0.1544 - val_accuracy: 0.9438\n",
      "Epoch 10/10\n",
      "62/62 [==============================] - 528s 9s/step - loss: 0.1971 - accuracy: 0.9370 - val_loss: 0.1002 - val_accuracy: 0.9583\n"
     ]
    }
   ],
   "source": [
    "history = model.fit(\n",
    "    train_generator,\n",
    "    steps_per_epoch=train_generator.samples // train_generator.batch_size,\n",
    "    epochs=10,\n",
    "    validation_data=validation_generator,\n",
    "    validation_steps=validation_generator.samples // validation_generator.batch_size\n",
    ")"
   ]
  },
  {
   "cell_type": "code",
   "execution_count": 13,
   "id": "bb042f88",
   "metadata": {},
   "outputs": [
    {
     "name": "stdout",
     "output_type": "stream",
     "text": [
      "16/16 [==============================] - 97s 6s/step - loss: 0.1038 - accuracy: 0.9560\n",
      "Test Loss: 0.10382512956857681\n",
      "Test Accuracy: 0.9559999704360962\n"
     ]
    }
   ],
   "source": [
    "test_loss, test_accuracy = model.evaluate(validation_generator)\n",
    "print('Test Loss:', test_loss)\n",
    "print('Test Accuracy:', test_accuracy)"
   ]
  },
  {
   "cell_type": "code",
   "execution_count": null,
   "id": "8eb73516",
   "metadata": {},
   "outputs": [],
   "source": []
  },
  {
   "cell_type": "code",
   "execution_count": 17,
   "id": "3032862b",
   "metadata": {},
   "outputs": [
    {
     "name": "stdout",
     "output_type": "stream",
     "text": [
      "16/16 [==============================] - 56s 3s/step\n"
     ]
    }
   ],
   "source": [
    "predictions = model.predict(validation_generator)\n",
    "predicted_classes = np.argmax(predictions, axis=1)\n",
    "true_classes = validation_generator.classes"
   ]
  },
  {
   "cell_type": "code",
   "execution_count": 20,
   "id": "79d967e4",
   "metadata": {},
   "outputs": [],
   "source": [
    "import numpy as np\n",
    "import matplotlib.pyplot as plt\n",
    "from sklearn.metrics import confusion_matrix\n",
    "import seaborn as sns"
   ]
  },
  {
   "cell_type": "code",
   "execution_count": 23,
   "id": "05fa0e1c",
   "metadata": {},
   "outputs": [],
   "source": [
    "cm = confusion_matrix(true_classes, predicted_classes)"
   ]
  },
  {
   "cell_type": "code",
   "execution_count": 24,
   "id": "b435c609",
   "metadata": {
    "scrolled": true
   },
   "outputs": [
    {
     "data": {
      "image/png": "[encoded data removed]",
      "text/plain": [
       "<Figure size 800x800 with 1 Axes>"
      ]
     },
     "metadata": {},
     "output_type": "display_data"
    }
   ],
   "source": [
    "class_names = list(validation_generator.class_indices.keys())\n",
    "plt.figure(figsize=(8, 8))\n",
    "sns.heatmap(cm, annot=True, fmt='d', cmap='Blues', cbar=False,\n",
    "            xticklabels=class_names, yticklabels=class_names)\n",
    "plt.xlabel('Predicted Labels')\n",
    "plt.ylabel('True Labels')\n",
    "plt.title('Confusion Matrix')\n",
    "plt.show()"
   ]
  },
  {
   "cell_type": "code",
   "execution_count": 25,
   "id": "4869a54b",
   "metadata": {},
   "outputs": [],
   "source": [
    "model.save('F:/4th year/Research Project/PP1/Trained Models/final.h5')"
   ]
  },
  {
   "cell_type": "code",
   "execution_count": 26,
   "id": "d83524e1",
   "metadata": {},
   "outputs": [],
   "source": [
    "import tensorflow as tf\n",
    "from tensorflow.keras.preprocessing.image import load_img, img_to_array\n",
    "from tensorflow.keras.models import load_model\n"
   ]
  },
  {
   "cell_type": "code",
   "execution_count": 27,
   "id": "8eb4658b",
   "metadata": {},
   "outputs": [],
   "source": [
    "model = load_model('F:/4th year/Research Project/PP1/Trained Models/final.h5')"
   ]
  },
  {
   "cell_type": "code",
   "execution_count": 73,
   "id": "ad146ffb",
   "metadata": {},
   "outputs": [],
   "source": [
    "image_path = 'F:/4th year/Research Project/Data-image/neck_bl.jpg'\n"
   ]
  },
  {
   "cell_type": "code",
   "execution_count": 75,
   "id": "5effdfb8",
   "metadata": {},
   "outputs": [],
   "source": [
    "image = load_img(image_path, target_size=(img_width, img_height))\n",
    "image_array = img_to_array(image)\n",
    "image_array = image_array / 255.0  \n",
    "image_array = np.expand_dims(image_array, axis=0)"
   ]
  },
  {
   "cell_type": "code",
   "execution_count": 76,
   "id": "a2573769",
   "metadata": {},
   "outputs": [
    {
     "name": "stdout",
     "output_type": "stream",
     "text": [
      "1/1 [==============================] - 0s 25ms/step\n",
      "Predicted class label: neck_blast_paddy\n"
     ]
    }
   ],
   "source": [
    "predictions = model.predict(image_array)\n",
    "predicted_class_index = np.argmax(predictions[0])\n",
    "predicted_class_label = class_labels[predicted_class_index]\n",
    "\n",
    "print(\"Predicted class label:\", predicted_class_label)"
   ]
  },
  {
   "cell_type": "code",
   "execution_count": 56,
   "id": "078ec476",
   "metadata": {},
   "outputs": [],
   "source": [
    "class_labels = train_generator.class_indices\n",
    "class_labels = dict((v, k) for k, v in class_labels.items())"
   ]
  }
 ],
 "metadata": {
  "kernelspec": {
   "display_name": "Python 3 (ipykernel)",
   "language": "python",
   "name": "python3"
  },
  "language_info": {
   "codemirror_mode": {
    "name": "ipython",
    "version": 3
   },
   "file_extension": ".py",
   "mimetype": "text/x-python",
   "name": "python",
   "nbconvert_exporter": "python",
   "pygments_lexer": "ipython3",
   "version": "3.9.13"
  }
 },
 "nbformat": 4,
 "nbformat_minor": 5
}
